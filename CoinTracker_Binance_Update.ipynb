{
 "cells": [
  {
   "cell_type": "code",
   "execution_count": null,
   "metadata": {},
   "outputs": [],
   "source": [
    "# import\n",
    "import requests\n",
    "import pymongo\n",
    "from pymongo import MongoClient\n",
    "import time\n",
    "import json\n",
    "import pprint\n",
    "import pandas as pd\n",
    "from pandas.io.json import json_normalize\n",
    "from datetime import timezone, timedelta, datetime\n",
    "import logging\n",
    "import logging.handlers\n",
    "import pickle\n",
    "logger = logging.getLogger(\"crumbs\")\n",
    "logger.setLevel(logging.DEBUG)\n",
    "formatter = logging.Formatter('[%(levelname)s|%(filename)s:%(lineno)s] %(asctime)s > %(message)s')\n",
    "file_max_bytes = 10 * 1024 * 1024\n",
    "fileHandler = logging.handlers.RotatingFileHandler(filename='./CoinTracker_Binance_Update.log', maxBytes=file_max_bytes, backupCount=10)\n",
    "fileHandler.setFormatter(formatter)\n",
    "logger.addHandler(fileHandler)\n",
    "logger.info(\"CoinTracker_Binance_Update Re-started\")"
   ]
  },
  {
   "cell_type": "code",
   "execution_count": null,
   "metadata": {
    "scrolled": true
   },
   "outputs": [],
   "source": [
    "base_url = 'https://api.binance.com'\n",
    "symbol = 'BTCUSDT'\n",
    "apis = {'ping':{'url': '/api/v1/ping','param':0},\n",
    "        'time':{'url':'/api/v1/time','param':0},\n",
    "        'exchangeInfo':{'url':'/api/v1/exchangeInfo','param':0},\n",
    "        'depth':{'url':'/api/v1/depth','param':{'symbol':symbol}},\n",
    "        'trades':{'url':'/api/v1/trades','param':{'symbol':symbol}},\n",
    "        'aggTrades':{'url':'/api/v1/aggTrades','param':{'symbol':symbol}},\n",
    "        'klines':{'url':'/api/v1/klines','param':{'symbol':symbol,'interval':'1m'}},\n",
    "        '24hr':{'url':'/api/v1/ticker/24hr','param':{'symbol':symbol}},\n",
    "        'price':{'url':'/api/v1/ticker/price','param':{'symbol':symbol}},\n",
    "        'bookTicker':{'url':'/api/v3/ticker/bookTicker','param':{'symbol':symbol}},\n",
    "       }\n",
    "url_db = 'mongodb://mongo-7a3e43c9-1.bf9bfd39.cont.dockerapp.io:32794'\n",
    "symbols = ['BTCUSDT','ETHUSDT','NEOUSDT','BNBUSDT','LTCUSDT','BCCUSDT']\n",
    "\n",
    "s_intervals = ['1m','3m','5m']\n",
    "m_intervals = ['15m','30m', '1h', '2h']\n",
    "l_intervals = ['4h', '6h', '8h', '12h', '1d', '3d', '1w', '1M']"
   ]
  },
  {
   "cell_type": "code",
   "execution_count": null,
   "metadata": {},
   "outputs": [],
   "source": [
    "# all coin (s_intervals) : 10초에 한번 kline update =  2w * 6회/min * 6 coins *  3 intervals = 216 weight/min\n",
    "# all coin (l_intervals) : 1분에 한번 kline update = 2w * 1회/min * 6 coins * 12 intervals = 144 weight/min"
   ]
  },
  {
   "cell_type": "code",
   "execution_count": null,
   "metadata": {},
   "outputs": [],
   "source": [
    "def kline_update(api_name,symbol,interval,db,stime):\n",
    "    # 각 symbol마다, 각 interval마다 항상 최신 2개를 불러와서 opentime 기준으로 index찾은 다음 overwrite 하면 됨\n",
    "    # DB & collection define\n",
    "    col_name = api_name+'_'+symbol+'_'+interval\n",
    "    col = db[col_name]\n",
    "    # # Load candlestick\n",
    "    param = {'symbol':symbol,'interval':interval,'startTime':stime}\n",
    "    url_api = base_url+apis[api_name]['url']\n",
    "    r = requests.get(url_api,params=param)\n",
    "    now = int(time.time()*1000)\n",
    "    klines = r.json()\n",
    "    latest_time = stime\n",
    "    count = len(klines)\n",
    "    # # Update Klines\n",
    "    for idx,kline in enumerate(klines):\n",
    "        k = {}\n",
    "        # {o_time:opentime,o_price:open,...}\n",
    "        k['o_t'] = kline[0]\n",
    "        k['o_p'] = kline[1]\n",
    "        k['h_p'] = kline[2]\n",
    "        k['l_p'] = kline[3]\n",
    "        k['c_p'] = kline[4]\n",
    "        k['v'] = kline[5]\n",
    "        k['c_t'] = kline[6]\n",
    "        k['qa_v'] = kline[7]\n",
    "        k['n_t'] = kline[8]\n",
    "        k['ta_v'] = kline[9]\n",
    "        k['tq_v'] = kline[10]\n",
    "        k['i'] = kline[11]\n",
    "        k['T'] = now\n",
    "        if idx<(len(klines)-1): \n",
    "            k['clsd'] = 1\n",
    "        else: \n",
    "            k['clsd'] = 0\n",
    "            latest_time = k['o_t']\n",
    "        # # db update, upsert=True\n",
    "        col.update_one({'o_t': k['o_t']},{\"$set\": k},upsert=True)\n",
    "    if count > 0:\n",
    "        logger.info('{count} klines inserted. db : {col_name} until {latest_time}'.format(count = str(count),col_name=col_name,latest_time=datetime.fromtimestamp(latest_time/1000)))\n",
    "    return latest_time"
   ]
  },
  {
   "cell_type": "code",
   "execution_count": null,
   "metadata": {
    "scrolled": true
   },
   "outputs": [],
   "source": [
    "# kline update continuously\n",
    "period = 0\n",
    "count = 0\n",
    "time_file = 'latest_time.txt'\n",
    "while 1:\n",
    "    try:\n",
    "        time.sleep(period)\n",
    "        start = time.time()\n",
    "        etime = int(start*1000)\n",
    "        with open(time_file,'r') as f:\n",
    "            latest_time = json.load(f)\n",
    "        count+=1\n",
    "        client = MongoClient(url_db)\n",
    "        db = client.Binance\n",
    "        # short interval every 10 sec\n",
    "        for symbol in symbols:        \n",
    "            for interval in s_intervals:        \n",
    "                latest_time[symbol+'_'+interval] = kline_update(api_name='klines',symbol=symbol,interval=interval,db=db,stime=latest_time[symbol+'_'+interval])\n",
    "\n",
    "        # midium interval every 1 min\n",
    "        if count%6 == 0:\n",
    "            for symbol in symbols:        \n",
    "                for interval in m_intervals:        \n",
    "                    latest_time[symbol+'_'+interval] = kline_update(api_name='klines',symbol=symbol,interval=interval,db=db,stime=latest_time[symbol+'_'+interval])\n",
    "        \n",
    "        # long interval every 1 hour\n",
    "        if count%360 == 0:\n",
    "            for symbol in symbols:        \n",
    "                for interval in l_intervals:        \n",
    "                    latest_time[symbol+'_'+interval] = kline_update(api_name='klines',symbol=symbol,interval=interval,db=db,stime=latest_time[symbol+'_'+interval])\n",
    "\n",
    "        client.close()\n",
    "        end = time.time()\n",
    "        duration = end-start\n",
    "        logger.info('api request duration : {duration}'.format(duration=end-start))\n",
    "        with open(time_file, 'w') as outfile:  \n",
    "            json.dump(latest_time, outfile)\n",
    "        period = int(10-duration)\n",
    "        if period < 1: period = 0\n",
    "#         if count > 10: break\n",
    "    except Exception as e:\n",
    "        logger.exception('error')\n",
    "        continue"
   ]
  },
  {
   "cell_type": "code",
   "execution_count": null,
   "metadata": {},
   "outputs": [],
   "source": [
    "## rate limit : 1200/min\n",
    "## 24hr rate : 243 / min"
   ]
  }
 ],
 "metadata": {
  "kernelspec": {
   "display_name": "Python 3",
   "language": "python",
   "name": "python3"
  },
  "language_info": {
   "codemirror_mode": {
    "name": "ipython",
    "version": 3
   },
   "file_extension": ".py",
   "mimetype": "text/x-python",
   "name": "python",
   "nbconvert_exporter": "python",
   "pygments_lexer": "ipython3",
   "version": "3.5.2"
  }
 },
 "nbformat": 4,
 "nbformat_minor": 2
}
