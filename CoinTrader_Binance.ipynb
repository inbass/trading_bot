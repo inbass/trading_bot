{
 "cells": [
  {
   "cell_type": "code",
   "execution_count": 1,
   "metadata": {},
   "outputs": [],
   "source": [
    "# import\n",
    "import requests\n",
    "import pymongo\n",
    "from pymongo import MongoClient\n",
    "import time\n",
    "import json\n",
    "import pprint\n",
    "import pandas as pd\n",
    "from pandas.io.json import json_normalize\n",
    "from datetime import timezone, timedelta, datetime\n",
    "import logging\n",
    "import logging.handlers\n",
    "logger = logging.getLogger(\"crumbs\")\n",
    "logger.setLevel(logging.DEBUG)\n",
    "formatter = logging.Formatter('[%(levelname)s|%(filename)s:%(lineno)s] %(asctime)s > %(message)s')\n",
    "file_max_bytes = 10 * 1024 * 1024\n",
    "fileHandler = logging.handlers.RotatingFileHandler(filename='./CoinTrader_Binance.log', maxBytes=file_max_bytes, backupCount=10)\n",
    "fileHandler.setFormatter(formatter)\n",
    "logger.addHandler(fileHandler)\n",
    "logger.info(\"CoinTrader Re-started\")"
   ]
  },
  {
   "cell_type": "code",
   "execution_count": 2,
   "metadata": {},
   "outputs": [],
   "source": [
    "base_url = 'https://api.binance.com'\n",
    "symbol = 'BTCUSDT'\n",
    "apis = {'ping':{'url': '/api/v1/ping','param':0},\n",
    "        'time':{'url':'/api/v1/time','param':0},\n",
    "        'exchangeInfo':{'url':'/api/v1/exchangeInfo','param':0},\n",
    "        'depth':{'url':'/api/v1/depth','param':{'symbol':symbol}},\n",
    "        'trades':{'url':'/api/v1/trades','param':{'symbol':symbol}},\n",
    "        'aggTrades':{'url':'/api/v1/aggTrades','param':{'symbol':symbol}},\n",
    "        'klines':{'url':'/api/v1/klines','param':{'symbol':symbol,'interval':'1m'}},\n",
    "        '24hr':{'url':'/api/v1/ticker/24hr','param':{'symbol':symbol}},\n",
    "        'price':{'url':'/api/v1/ticker/price','param':{'symbol':symbol}},\n",
    "        'bookTicker':{'url':'/api/v3/ticker/bookTicker','param':{'symbol':symbol}},\n",
    "       }\n",
    "url_db = 'mongodb://mongo-7a3e43c9-1.bf9bfd39.cont.dockerapp.io:32794'\n",
    "symbols = ['BTCUSDT','ETHUSDT','NEOUSDT','BNBUSDT','LTCUSDT','BCCUSDT']\n",
    "intervals = ['1m','3m','5m','15m','30m', '1h', '2h', '4h', '6h', '8h', '12h', '1d', '3d', '1w', '1M']"
   ]
  },
  {
   "cell_type": "code",
   "execution_count": 6,
   "metadata": {},
   "outputs": [
    {
     "name": "stdout",
     "output_type": "stream",
     "text": [
      "-4009.0 2017-08-17 13:00:00 2018-01-31 14:00:00\n",
      "8.0 2017-09-07 08:00:00 2017-09-07 00:00:00\n",
      "2.0 2018-01-04 14:00:00 2018-01-04 12:00:00\n"
     ]
    }
   ],
   "source": [
    "client = MongoClient(url_db)\n",
    "# Previous Binance DB Delete\n",
    "db = client.Binance\n",
    "api_name = 'klines'\n",
    "symbol = 'BTCUSDT'\n",
    "interval = '1h'\n",
    "# DB & collection define\n",
    "col_name = api_name+'_'+symbol+'_'+interval\n",
    "col = db[col_name]\n",
    "klines = col.find()\n",
    "count = klines.count()\n",
    "for idx,k in enumerate(klines):\n",
    "    try:\n",
    "        if idx==0:\n",
    "            previous = k['o_t']\n",
    "            continue\n",
    "        gap = k['o_t']-previous\n",
    "        if gap/1000!=3600:\n",
    "            print(gap/1000/3600,datetime.fromtimestamp(k['o_t']/1000),datetime.fromtimestamp(previous/1000))\n",
    "        previous = k['o_t']\n",
    "    except:\n",
    "        print('error')\n",
    "        continue\n",
    "        print([datetime.fromtimestamp(k['o_t']/1000) for k in klines[count-5:]])\n",
    "client.close()"
   ]
  },
  {
   "cell_type": "code",
   "execution_count": null,
   "metadata": {},
   "outputs": [],
   "source": []
  },
  {
   "cell_type": "code",
   "execution_count": null,
   "metadata": {},
   "outputs": [],
   "source": [
    "# load DB\n",
    "url_ticker = \"https://api.coinone.co.kr/ticker/\" # limit 90 req/min\n",
    "payload = {\"currency\": \"all\"}\n",
    "url_db = 'mongodb://localhost:27017/'\n",
    "\n",
    "client = MongoClient(url_db)\n",
    "db = client.CoinTracker\n",
    "col = db.Ticker\n",
    "col.count()\n",
    "cursor = col.find()\n",
    "df =  pd.DataFrame(json_normalize(list(cursor)))"
   ]
  },
  {
   "cell_type": "code",
   "execution_count": null,
   "metadata": {},
   "outputs": [],
   "source": [
    "# pre-process"
   ]
  },
  {
   "cell_type": "code",
   "execution_count": null,
   "metadata": {
    "scrolled": true
   },
   "outputs": [],
   "source": [
    "len(df)"
   ]
  },
  {
   "cell_type": "code",
   "execution_count": null,
   "metadata": {
    "scrolled": true
   },
   "outputs": [],
   "source": [
    "for key in df.keys():print(key,df[key][0])"
   ]
  },
  {
   "cell_type": "code",
   "execution_count": null,
   "metadata": {},
   "outputs": [],
   "source": [
    "# day = datetime.datetime.fromtimestamp(int(df.timestamp[0])).day\n",
    "# year = datetime.datetime.fromtimestamp(int(df.timestamp[0])).year\n",
    "# month = datetime.datetime.fromtimestamp(int(df.timestamp[0])).month\n",
    "# weekday = datetime.datetime.fromtimestamp(int(df.timestamp[0])).weekday()\n",
    "# hour = datetime.datetime.fromtimestamp(int(df.timestamp[0])).strftime('%I')\n",
    "# minute = datetime.datetime.fromtimestamp(int(df.timestamp[0])).minute\n",
    "# second = datetime.datetime.fromtimestamp(int(df.timestamp[0])).second\n",
    "# ampm = datetime.datetime.fromtimestamp(int(df.timestamp[0])).strftime('%p')"
   ]
  },
  {
   "cell_type": "code",
   "execution_count": null,
   "metadata": {},
   "outputs": [],
   "source": [
    "df[\"day\"] = [datetime.datetime.fromtimestamp(int(df.timestamp[i])).day for i in range(len(df))]\n",
    "df[\"year\"] = [datetime.datetime.fromtimestamp(int(df.timestamp[i])).year for i in range(len(df))]\n",
    "df[\"month\"] = [datetime.datetime.fromtimestamp(int(df.timestamp[i])).month for i in range(len(df))]\n",
    "df[\"weekday\"] = [datetime.datetime.fromtimestamp(int(df.timestamp[i])).weekday() for i in range(len(df))]\n",
    "df[\"hour\"] = [datetime.datetime.fromtimestamp(int(df.timestamp[i])).strftime('%I') for i in range(len(df))]\n",
    "df[\"minute\"] = [datetime.datetime.fromtimestamp(int(df.timestamp[i])).minute for i in range(len(df))]\n",
    "df[\"second\"] = [datetime.datetime.fromtimestamp(int(df.timestamp[i])).second for i in range(len(df))]\n",
    "df[\"ampm\"] = [datetime.datetime.fromtimestamp(int(df.timestamp[i])).strftime('%p') for i in range(len(df))]"
   ]
  },
  {
   "cell_type": "code",
   "execution_count": null,
   "metadata": {},
   "outputs": [],
   "source": [
    "# time\n",
    "timestamp = time.time()*1000\n",
    "time_kor = datetime.fromtimestamp(timestamp/1000)\n",
    "# year = now.year\n",
    "# month = now.month\n",
    "# day = now.day\n",
    "# weekday = now.weekday()\n",
    "# hour = now.strftime('%I')\n",
    "# minute = now.minute\n",
    "# second = now.second\n",
    "# ampm = now.strftime('%p')"
   ]
  },
  {
   "cell_type": "code",
   "execution_count": null,
   "metadata": {},
   "outputs": [],
   "source": [
    "# time error\n",
    "api_name = 'time'\n",
    "param = 0\n",
    "url_ticker = base_url+apis[api_name]['url'] # \n",
    "r = requests.get(url_ticker,params=param)\n",
    "timestamp = time.time()*1000\n",
    "server_time = r.json()[\"serverTime\"]\n",
    "time_gap = (timestamp-server_time)/1000\n",
    "# if time_gap > 1: continue\n",
    "print(time_gap)"
   ]
  },
  {
   "cell_type": "code",
   "execution_count": null,
   "metadata": {},
   "outputs": [],
   "source": [
    "term = 24*12"
   ]
  },
  {
   "cell_type": "code",
   "execution_count": null,
   "metadata": {},
   "outputs": [],
   "source": [
    "df[\"mean.24\"] = [df[\"btc.last\"][i:i+term].mean() for i in range(len(df))]"
   ]
  },
  {
   "cell_type": "code",
   "execution_count": null,
   "metadata": {},
   "outputs": [],
   "source": []
  },
  {
   "cell_type": "code",
   "execution_count": null,
   "metadata": {},
   "outputs": [],
   "source": [
    "client.close()    \n"
   ]
  }
 ],
 "metadata": {
  "kernelspec": {
   "display_name": "Python 3",
   "language": "python",
   "name": "python3"
  },
  "language_info": {
   "codemirror_mode": {
    "name": "ipython",
    "version": 3
   },
   "file_extension": ".py",
   "mimetype": "text/x-python",
   "name": "python",
   "nbconvert_exporter": "python",
   "pygments_lexer": "ipython3",
   "version": "3.5.2"
  }
 },
 "nbformat": 4,
 "nbformat_minor": 2
}
